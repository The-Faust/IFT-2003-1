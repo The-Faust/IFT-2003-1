{
 "cells": [
  {
   "cell_type": "markdown",
   "metadata": {},
   "source": [
    "# Analyse de données de la configuration 11x11 du jeux Gomoku"
   ]
  },
  {
   "cell_type": "markdown",
   "metadata": {
    "jupyter": {
     "outputs_hidden": true
    }
   },
   "source": [
    "Dans le but d'évaluer la performance de notre algorithme selon différentes configurations, nous avons produit des données en format csv pour la configuration 11x11."
   ]
  },
  {
   "cell_type": "markdown",
   "metadata": {},
   "source": [
    "### Alpha_Beta avec une profondeur de 1 et une limite de temps de 10 secondes \n",
    "Afin d'avoir un visuel sur les performances fournis, on décide de calculer en premier la moyenne de temps d'exécution des 20 parties jouées."
   ]
  },
  {
   "cell_type": "code",
   "execution_count": 1,
   "metadata": {
    "scrolled": true
   },
   "outputs": [
    {
     "data": {
      "text/html": [
       "<div>\n",
       "<style scoped>\n",
       "    .dataframe tbody tr th:only-of-type {\n",
       "        vertical-align: middle;\n",
       "    }\n",
       "\n",
       "    .dataframe tbody tr th {\n",
       "        vertical-align: top;\n",
       "    }\n",
       "\n",
       "    .dataframe thead th {\n",
       "        text-align: right;\n",
       "    }\n",
       "</style>\n",
       "<table border=\"1\" class=\"dataframe\">\n",
       "  <thead>\n",
       "    <tr style=\"text-align: right;\">\n",
       "      <th></th>\n",
       "      <th>heuristique_final</th>\n",
       "    </tr>\n",
       "  </thead>\n",
       "  <tbody>\n",
       "    <tr>\n",
       "      <th>1</th>\n",
       "      <td>30000</td>\n",
       "    </tr>\n",
       "    <tr>\n",
       "      <th>2</th>\n",
       "      <td>10000</td>\n",
       "    </tr>\n",
       "    <tr>\n",
       "      <th>5</th>\n",
       "      <td>29321</td>\n",
       "    </tr>\n",
       "    <tr>\n",
       "      <th>6</th>\n",
       "      <td>41226</td>\n",
       "    </tr>\n",
       "    <tr>\n",
       "      <th>10</th>\n",
       "      <td>29696</td>\n",
       "    </tr>\n",
       "    <tr>\n",
       "      <th>11</th>\n",
       "      <td>10068</td>\n",
       "    </tr>\n",
       "    <tr>\n",
       "      <th>17</th>\n",
       "      <td>29634</td>\n",
       "    </tr>\n",
       "    <tr>\n",
       "      <th>18</th>\n",
       "      <td>10001</td>\n",
       "    </tr>\n",
       "    <tr>\n",
       "      <th>21</th>\n",
       "      <td>29712</td>\n",
       "    </tr>\n",
       "    <tr>\n",
       "      <th>22</th>\n",
       "      <td>10060</td>\n",
       "    </tr>\n",
       "  </tbody>\n",
       "</table>\n",
       "</div>"
      ],
      "text/plain": [
       "    heuristique_final\n",
       "1               30000\n",
       "2               10000\n",
       "5               29321\n",
       "6               41226\n",
       "10              29696\n",
       "11              10068\n",
       "17              29634\n",
       "18              10001\n",
       "21              29712\n",
       "22              10060"
      ]
     },
     "execution_count": 1,
     "metadata": {},
     "output_type": "execute_result"
    }
   ],
   "source": [
    "import pandas as pd\n",
    "import numpy as np\n",
    "import matplotlib.pyplot as plt\n",
    "import csv\n",
    "import scipy.special as sps \n",
    "import scipy.stats as stats \n",
    "\n",
    "from math import pow\n",
    "\n",
    "#Calculer le temps total de jeu pour chaque game\n",
    "\n",
    "game_times = []\n",
    "score_heuristique_finaux = []\n",
    "for i in range(1, 21):\n",
    "    game_dataframe = pd.read_csv('./board_11X11/depth_1_timelimit_10/game{0}.csv'.format(i))\n",
    "    \n",
    "    if (game_dataframe.iloc[-1][\"score_heuristique\"] != 0):\n",
    "        score_heuristique_finaux.append(abs(game_dataframe.iloc[-1][\"score_heuristique\"]))\n",
    "        score_heuristique_finaux.append(abs(game_dataframe.iloc[-2][\"score_heuristique\"]))\n",
    "    else:\n",
    "        score_heuristique_finaux.append(abs(game_dataframe.iloc[-1][\"score_heuristique\"]))\n",
    "    \n",
    "    game_time = game_dataframe[\"duree_tour\"].sum()\n",
    "    game_times.append(game_time)\n",
    "\n",
    "    # print(\"Game {0} : {1}s\".format(i, format(game_time, \".2f\")))\n",
    "\n",
    "heuristique_finaux = pd.DataFrame(score_heuristique_finaux, columns=['heuristique_final'])\n",
    "heuristique_finaux = heuristique_finaux.loc[~(heuristique_finaux==0).all(axis=1)]\n",
    "heuristique_finaux"
   ]
  },
  {
   "cell_type": "markdown",
   "metadata": {},
   "source": [
    "La moyenne d'un jeu complet de temps de jeux en seconde est:"
   ]
  },
  {
   "cell_type": "code",
   "execution_count": 2,
   "metadata": {},
   "outputs": [
    {
     "data": {
      "text/plain": [
       "'16.71'"
      ]
     },
     "execution_count": 2,
     "metadata": {},
     "output_type": "execute_result"
    }
   ],
   "source": [
    "format(np.mean(game_times), \".2f\")"
   ]
  },
  {
   "cell_type": "markdown",
   "metadata": {},
   "source": [
    "On peut aussi s'interesser à la moyenne et variance d'un seul coup. Pour se faire, on est mieu d'etudier le suivant par rapport à l'alignement le plus long réalisé et ainsi avoir des métriques plus juste car on sait que le plus qu'on avance dans le jeux le moins de choix s'offre à nous. Ainsi, on peut calculer la moyenne et variance pour le jeux de données présent selon l'allignement le plus long."
   ]
  },
  {
   "cell_type": "code",
   "execution_count": 3,
   "metadata": {},
   "outputs": [
    {
     "name": "stdout",
     "output_type": "stream",
     "text": [
      "2.792735678139599e-05\n"
     ]
    }
   ],
   "source": [
    "alignement_data = {}\n",
    "\n",
    "for i in range(1, 21):\n",
    "    game_dataframe = pd.read_csv('./board_11X11/depth_1_timelimit_10/game{0}.csv'.format(i))\n",
    "    \n",
    "    for index, row in game_dataframe.iterrows():\n",
    "#         print(row[\"allignement_plus_long\"])\n",
    "        if(not row[\"allignement_plus_long\"] in alignement_data):\n",
    "            alignement_data[row[\"allignement_plus_long\"]] = []\n",
    "            \n",
    "        alignement_data[row[\"allignement_plus_long\"]].append(row[\"duree_tour\"])\n",
    "            \n",
    "alignement_stats = {}\n",
    "a = np.array([14, 8, 11, 10, 7, 9, 10, 11, 10, 15, 5, 10])\n",
    "print(np.var(alignement_data[1]))\n",
    "\n",
    "\n",
    "# for key in alignement_data.keys():\n",
    "#     alignement_stats[key] = {\"moyenne\": format(np.mean(alignement_data[key]), \".2f\"), \"variance\": format(np.var(alignement_data[key]), \".2f\")}\n",
    "    \n",
    "    \n",
    "\n",
    "# print(alignement_stats)\n",
    "            \n",
    "#     game_time = game_dataframe[\"duree_tour\"].sum()\n",
    "#     game_times.append(game_time)\n",
    "\n",
    "#     print(\"Game {0} : {1}s\".format(i, format(game_time, \".2f\")))"
   ]
  },
  {
   "cell_type": "markdown",
   "metadata": {},
   "source": [
    "Une autre métrique intéressante à consulter est la distribution du score de l'heuristique final du jeu pour mieux comprendre l'aboutissement du jeu soit à un match nul ou menant à un vainceur. Pour ce faire, on peut consulter les données en forme d'un histogramme"
   ]
  },
  {
   "cell_type": "code",
   "execution_count": 4,
   "metadata": {},
   "outputs": [
    {
     "data": {
      "image/png": "[encoded data removed]",
      "text/plain": [
       "<Figure size 640x480 with 1 Axes>"
      ]
     },
     "metadata": {},
     "output_type": "display_data"
    }
   ],
   "source": [
    "counts, bins = np.histogram(score_heuristique_finaux, bins='auto')\n",
    "plt.stairs(counts, bins)\n",
    "plt.title(\"Histogramme des scores heuristique finaux\")\n",
    "plt.show()"
   ]
  },
  {
   "cell_type": "markdown",
   "metadata": {},
   "source": [
    "On peut tracer la distribution theorique suivant une loi Gamma pour représenter la distribution du score de l'heuristique finaux. Ceci dit, on doit d'abord calculer son paramètre de distribution λ et donc évaluer la moyenne calculé en premier."
   ]
  },
  {
   "cell_type": "code",
   "execution_count": 5,
   "metadata": {},
   "outputs": [
    {
     "name": "stdout",
     "output_type": "stream",
     "text": [
      "3.8685246032402776\n",
      "5938.129482428213\n"
     ]
    },
    {
     "data": {
      "image/png": "[encoded data removed]",
      "text/plain": [
       "<Figure size 640x480 with 1 Axes>"
      ]
     },
     "metadata": {},
     "output_type": "display_data"
    }
   ],
   "source": [
    "# test = np.mean(score_heuristique_finaux)\n",
    "# print(\"Moyenne score heuristique: {0}\".format(test))\n",
    "# gamma_lambda = len(score_heuristique_finaux) / test\n",
    "# print(\"{0}: {1}\".format(u'\\u03BB', gamma_lambda))\n",
    "\n",
    "mean = heuristique_finaux.mean()\n",
    "variance = heuristique_finaux.var()\n",
    "\n",
    "alpha = abs((pow(mean, 2)/variance)['heuristique_final'])\n",
    "print(alpha)\n",
    "beta = abs((variance/mean)['heuristique_final'])\n",
    "print(beta)\n",
    "scale = 1/beta\n",
    "\n",
    "x = np.linspace (-30000, 30000, 200)\n",
    "y = stats.gamma.pdf(x, a=alpha, scale=scale)\n",
    "\n",
    "plt.plot(x, y)\n",
    "plt.show()"
   ]
  },
  {
   "cell_type": "code",
   "execution_count": 6,
   "metadata": {},
   "outputs": [],
   "source": [
    "# y = stats.gamma.pdf(score_heuristique_finaux, len(score_heuristique_finaux), scale=gamma_lambda)\n",
    "# plt.plot(score_heuristique_finaux, y)\n",
    "# plt.show()"
   ]
  }
 ],
 "metadata": {
  "kernelspec": {
   "display_name": "Python 3 (ipykernel)",
   "language": "python",
   "name": "python3"
  },
  "language_info": {
   "codemirror_mode": {
    "name": "ipython",
    "version": 3
   },
   "file_extension": ".py",
   "mimetype": "text/x-python",
   "name": "python",
   "nbconvert_exporter": "python",
   "pygments_lexer": "ipython3",
   "version": "3.10.9"
  }
 },
 "nbformat": 4,
 "nbformat_minor": 4
}
