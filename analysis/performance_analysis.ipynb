{
 "cells": [
  {
   "cell_type": "markdown",
   "metadata": {},
   "source": [
    "# Analyse de données de la configuration 11x11 du jeux Gomoku"
   ]
  },
  {
   "cell_type": "markdown",
   "metadata": {
    "jupyter": {
     "outputs_hidden": true
    }
   },
   "source": [
    "Dans le but d'évaluer la performance de notre algorithme selon différentes configurations, nous avons produit des données en format csv pour la configuration 11x11."
   ]
  },
  {
   "cell_type": "markdown",
   "metadata": {},
   "source": [
    "### Alpha_Beta avec une profondeur de 1 et une limite de temps de 10 secondes \n",
    "Afin d'avoir un visuel sur les performances fournis, on décide de calculer en premier la moyenne de temps d'exécution des 20 parties jouées."
   ]
  },
  {
   "cell_type": "code",
   "execution_count": 1,
   "metadata": {
    "scrolled": true
   },
   "outputs": [
    {
     "ename": "ModuleNotFoundError",
     "evalue": "No module named 'matplotlib'",
     "output_type": "error",
     "traceback": [
      "\u001b[0;31m---------------------------------------------------------------------------\u001b[0m",
      "\u001b[0;31mModuleNotFoundError\u001b[0m                       Traceback (most recent call last)",
      "Cell \u001b[0;32mIn[1], line 3\u001b[0m\n\u001b[1;32m      1\u001b[0m \u001b[38;5;28;01mimport\u001b[39;00m \u001b[38;5;21;01mpandas\u001b[39;00m \u001b[38;5;28;01mas\u001b[39;00m \u001b[38;5;21;01mpd\u001b[39;00m\n\u001b[1;32m      2\u001b[0m \u001b[38;5;28;01mimport\u001b[39;00m \u001b[38;5;21;01mnumpy\u001b[39;00m \u001b[38;5;28;01mas\u001b[39;00m \u001b[38;5;21;01mnp\u001b[39;00m\n\u001b[0;32m----> 3\u001b[0m \u001b[38;5;28;01mimport\u001b[39;00m \u001b[38;5;21;01mmatplotlib\u001b[39;00m\u001b[38;5;21;01m.\u001b[39;00m\u001b[38;5;21;01mpyplot\u001b[39;00m \u001b[38;5;28;01mas\u001b[39;00m \u001b[38;5;21;01mplt\u001b[39;00m\n\u001b[1;32m      4\u001b[0m \u001b[38;5;28;01mimport\u001b[39;00m \u001b[38;5;21;01mscipy\u001b[39;00m\u001b[38;5;21;01m.\u001b[39;00m\u001b[38;5;21;01mstats\u001b[39;00m \u001b[38;5;28;01mas\u001b[39;00m \u001b[38;5;21;01mstats\u001b[39;00m \n\u001b[1;32m      5\u001b[0m \u001b[38;5;28;01mimport\u001b[39;00m \u001b[38;5;21;01mcsv\u001b[39;00m\n",
      "\u001b[0;31mModuleNotFoundError\u001b[0m: No module named 'matplotlib'"
     ]
    }
   ],
   "source": [
    "import pandas as pd\n",
    "import numpy as np\n",
    "import matplotlib.pyplot as plt\n",
    "import scipy.stats as stats \n",
    "import csv\n",
    "\n",
    "#Calculer le temps total de jeu pour chaque game\n",
    "\n",
    "game_times = []\n",
    "score_heuristique_finaux = []\n",
    "for i in range(1, 21):\n",
    "    game_dataframe = pd.read_csv('./board_11X11/depth_1_timelimit_10/game{0}.csv'.format(i))\n",
    "    \n",
    "    if (game_dataframe.iloc[-1][\"score_heuristique\"] != 0):\n",
    "        score_heuristique_finaux.append(abs(game_dataframe.iloc[-1][\"score_heuristique\"]))\n",
    "        score_heuristique_finaux.append(abs(game_dataframe.iloc[-2][\"score_heuristique\"]))\n",
    "    else:\n",
    "        score_heuristique_finaux.append(abs(game_dataframe.iloc[-1][\"score_heuristique\"]))\n",
    "    \n",
    "    game_time = game_dataframe[\"duree_tour\"].sum()\n",
    "    game_times.append(game_time)\n",
    "\n",
    "    print(\"Game {0} : {1}s\".format(i, format(game_time, \".2f\")))"
   ]
  },
  {
   "cell_type": "markdown",
   "metadata": {},
   "source": [
    "La moyenne d'un jeu complet de temps de jeux en seconde est:"
   ]
  },
  {
   "cell_type": "code",
   "execution_count": null,
   "metadata": {},
   "outputs": [],
   "source": [
    "format(np.mean(game_times), \".2f\")"
   ]
  },
  {
   "cell_type": "markdown",
   "metadata": {},
   "source": [
    "On peut aussi s'interesser à la moyenne et variance d'un seul coup. Pour se faire, on est mieu d'etudier le suivant par rapport à l'alignement le plus long réalisé et ainsi avoir des métriques plus juste car on sait que le plus qu'on avance dans le jeux le moins de choix s'offre à nous. Ainsi, on peut calculer la moyenne et variance pour le jeux de données présent selon l'allignement le plus long."
   ]
  },
  {
   "cell_type": "code",
   "execution_count": null,
   "metadata": {},
   "outputs": [],
   "source": [
    "\n",
    "\n",
    "# alignement_data = {}\n",
    "\n",
    "for i in range(1, 21):\n",
    "    game_dataframe = pd.read_csv('./board_11X11/depth_1_timelimit_10/game{0}.csv'.format(i))\n",
    "    \n",
    "    for index, row in game_dataframe.iterrows():\n",
    "#         print(row[\"allignement_plus_long\"])\n",
    "        if(not row[\"allignement_plus_long\"] in alignement_data):\n",
    "            alignement_data[row[\"allignement_plus_long\"]] = []\n",
    "            \n",
    "        alignement_data[row[\"allignement_plus_long\"]].append(row[\"duree_tour\"])\n",
    "            \n",
    "alignement_stats = {}\n",
    "a = np.array([14, 8, 11, 10, 7, 9, 10, 11, 10, 15, 5, 10])\n",
    "print(np.var(alignement_data[1]))\n",
    "\n",
    "\n",
    "# for key in alignement_data.keys():\n",
    "#     alignement_stats[key] = {\"moyenne\": format(np.mean(alignement_data[key]), \".2f\"), \"variance\": format(np.var(alignement_data[key]), \".2f\")}\n",
    "    \n",
    "    \n",
    "\n",
    "# print(alignement_stats)\n",
    "            \n",
    "#     game_time = game_dataframe[\"duree_tour\"].sum()\n",
    "#     game_times.append(game_time)\n",
    "\n",
    "#     print(\"Game {0} : {1}s\".format(i, format(game_time, \".2f\")))"
   ]
  },
  {
   "cell_type": "markdown",
   "metadata": {},
   "source": [
    "Une autre métrique intéressante à consulter est la distribution du score de l'heuristique final du jeu pour mieux comprendre l'aboutissement du jeu soit à un match nul ou menant à un vainceur. Pour ce faire, on peut consulter les données en forme d'un histogramme"
   ]
  },
  {
   "cell_type": "code",
   "execution_count": null,
   "metadata": {},
   "outputs": [],
   "source": [
    "counts, bins = np.histogram(score_heuristique_finaux, bins='auto')\n",
    "plt.stairs(counts, bins)\n",
    "plt.title(\"Histogramme des scores heuristique finaux\")\n",
    "plt.show()"
   ]
  },
  {
   "cell_type": "markdown",
   "metadata": {},
   "source": [
    "On peut tracer la distribution theorique suivant une loi Gamma pour représenter la distribution du score de l'heuristique finaux. Ceci dit, on doit d'abord calculer son paramètre de distribution λ et donc évaluer la moyenne calculé en premier."
   ]
  },
  {
   "cell_type": "code",
   "execution_count": null,
   "metadata": {},
   "outputs": [],
   "source": [
    "test = np.mean(score_heuristique_finaux)\n",
    "print(\"Moyenne score heuristique: {0}\".format(test))\n",
    "gamma_lambda = len(score_heuristique_finaux) / test\n",
    "print(\"{0}: {1}\".format(u'\\u03BB', gamma_lambda))"
   ]
  },
  {
   "cell_type": "code",
   "execution_count": null,
   "metadata": {},
   "outputs": [],
   "source": [
    "y = stats.gamma.pdf(score_heuristique_finaux, len(score_heuristique_finaux), scale=gamma_lambda)\n",
    "plt.plot(score_heuristique_finaux, y)\n",
    "plt.show()"
   ]
  }
 ],
 "metadata": {
  "kernelspec": {
   "display_name": "Python 3 (ipykernel)",
   "language": "python",
   "name": "python3"
  },
  "language_info": {
   "codemirror_mode": {
    "name": "ipython",
    "version": 3
   },
   "file_extension": ".py",
   "mimetype": "text/x-python",
   "name": "python",
   "nbconvert_exporter": "python",
   "pygments_lexer": "ipython3",
   "version": "3.10.9"
  }
 },
 "nbformat": 4,
 "nbformat_minor": 4
}
